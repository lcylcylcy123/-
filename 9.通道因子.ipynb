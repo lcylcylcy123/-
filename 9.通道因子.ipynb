{
 "cells": [
  {
   "cell_type": "code",
   "execution_count": 1,
   "id": "54c085eb",
   "metadata": {},
   "outputs": [
    {
     "name": "stdout",
     "output_type": "stream",
     "text": [
      "262144\n",
      "2\n"
     ]
    }
   ],
   "source": [
    "def hs9(dic):\n",
    "    num=0\n",
    "    dic9=dic.copy()\n",
    "    for x in range(1,65):\n",
    "        for y in range(1,65):\n",
    "            for z in range(1,65):\n",
    "                if dic[str(x)+','+str(y)+','+str(z)]==str(2):\n",
    "                    num=num+1\n",
    "    p=num/len(dic)\n",
    "    T=0\n",
    "    for x in range(1,65):\n",
    "        n=0\n",
    "        for y in range(1,65):\n",
    "            m=0\n",
    "            for z in range(1,65):\n",
    "                if dic[str(x)+','+str(y)+','+str(z)]==str(2):\n",
    "                    m=m+1\n",
    "            n=n+(m-64*p)**2/64\n",
    "        T=T+n**(1/2)\n",
    "    return T/64"
   ]
  }
 ],
 "metadata": {
  "kernelspec": {
   "display_name": "Python 3 (ipykernel)",
   "language": "python",
   "name": "python3"
  },
  "language_info": {
   "codemirror_mode": {
    "name": "ipython",
    "version": 3
   },
   "file_extension": ".py",
   "mimetype": "text/x-python",
   "name": "python",
   "nbconvert_exporter": "python",
   "pygments_lexer": "ipython3",
   "version": "3.8.11"
  }
 },
 "nbformat": 4,
 "nbformat_minor": 5
}
