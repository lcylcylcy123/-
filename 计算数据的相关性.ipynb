{
 "cells": [
  {
   "cell_type": "code",
   "execution_count": null,
   "id": "c06a5371",
   "metadata": {},
   "outputs": [],
   "source": [
    "import pandas as pd\n",
    "import numpy as np\n",
    "import matplotlib.pyplot as plt\n",
    "import seaborn as sns\n",
    "%matplotlib inline\n",
    "\n",
    "A=pd.Series(cols) #利用Series将列表转换成新的、pandas可处理的数据\n",
    "B=pd.Series(ls3)\n",
    "C=pd.Series(ls4)\n",
    "D=pd.Series(ls1)\n",
    "E=pd.Series(lsnu1)\n",
    "F=pd.Series(lsk1)\n",
    "G=pd.Series(ls2)\n",
    "H=pd.Series(lsnu2)\n",
    "I=pd.Series(lsk2)\n",
    "J=pd.Series(ls5)\n",
    "K=pd.Series(ls6)\n",
    "L=pd.Series(ls7)\n",
    "M=pd.Series(ls8)\n",
    "N=pd.Series(ls9)\n",
    "O=pd.Series(ls10)\n",
    "P=pd.Series(cols1)\n",
    "Q=pd.Series(cols2)\n",
    "data = pd.DataFrame({'    压电系数':A, \n",
    "                     '上下界面面积':B,\n",
    "                     '左右界面面积':C,\n",
    "                     'yz截面空隙平均大小':D,\n",
    "                     'yz截面空隙平均个数':E,\n",
    "                     'yz截面空隙平均的dz/dy':F,\n",
    "                     'xz截面空隙平均大小':G,\n",
    "                     'xz截面空隙平均个数':H,\n",
    "                     'xz截面空隙平均的dz/dx':I,\n",
    "                     '优势路径':J,\n",
    "                     '最短路径':K,\n",
    "                     '空气的体积分数':L,\n",
    "                     '空气的比表面积':O,\n",
    "                     '形状因子':M,\n",
    "                     '通道因子':N,\n",
    "                     '生长核的个数':P,\n",
    "                     '生长核的大小':Q})\n",
    "pearson=data.corr()   # 计算pearson相关系数\n",
    "kendall=data.corr('kendall')      # Kendall Tau相关系数\n",
    "spearman=data.corr('spearman')     # spearman秩相关\n",
    "#print(pearson)\n",
    "#print(kendall)\n",
    "#print(spearman)\n",
    "#print(pearson)"
   ]
  }
 ],
 "metadata": {
  "kernelspec": {
   "display_name": "Python 3 (ipykernel)",
   "language": "python",
   "name": "python3"
  },
  "language_info": {
   "codemirror_mode": {
    "name": "ipython",
    "version": 3
   },
   "file_extension": ".py",
   "mimetype": "text/x-python",
   "name": "python",
   "nbconvert_exporter": "python",
   "pygments_lexer": "ipython3",
   "version": "3.8.11"
  }
 },
 "nbformat": 4,
 "nbformat_minor": 5
}
