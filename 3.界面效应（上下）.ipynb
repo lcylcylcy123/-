{
 "cells": [
  {
   "cell_type": "code",
   "execution_count": 4,
   "id": "324185c6",
   "metadata": {},
   "outputs": [
    {
     "name": "stdout",
     "output_type": "stream",
     "text": [
      "262144\n",
      "2\n"
     ]
    }
   ],
   "source": [
    "def hs3(dic):\n",
    "    m=0\n",
    "    dic3=dic.copy()\n",
    "    for i in range(1,65):\n",
    "        for j in range(1,65):\n",
    "            for k in range(1,65):\n",
    "                if dic[str(i)+','+str(j)+','+str(k)]==str(1):\n",
    "                    b=k-1\n",
    "                    c=k+1\n",
    "                    if 0<b<=64 and dic[str(i)+','+str(j)+','+str(b)]==str(2):\n",
    "                        m=m+1\n",
    "                    if 0<c<=64 and dic[str(i)+','+str(j)+','+str(c)]==str(2):\n",
    "                        m=m+1\n",
    "    return m\n",
    "#上下截面面积"
   ]
  }
 ],
 "metadata": {
  "kernelspec": {
   "display_name": "Python 3 (ipykernel)",
   "language": "python",
   "name": "python3"
  },
  "language_info": {
   "codemirror_mode": {
    "name": "ipython",
    "version": 3
   },
   "file_extension": ".py",
   "mimetype": "text/x-python",
   "name": "python",
   "nbconvert_exporter": "python",
   "pygments_lexer": "ipython3",
   "version": "3.9.7"
  }
 },
 "nbformat": 4,
 "nbformat_minor": 5
}
