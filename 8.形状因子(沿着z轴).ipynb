{
 "cells": [
  {
   "cell_type": "code",
   "execution_count": 4,
   "id": "8f4f37d6",
   "metadata": {},
   "outputs": [],
   "source": [
    "def hs8(dic):\n",
    "    SF=0\n",
    "    dic8=dic.copy()\n",
    "    for x in range(1,65):\n",
    "        n=0\n",
    "        for y in range(1,65):\n",
    "            m=0\n",
    "            for z in range(1,65):\n",
    "                if dic[str(x)+','+str(y)+','+str(z)]==str(2):\n",
    "                    m=m+1\n",
    "            if m!=0:\n",
    "                n=1/m+n\n",
    "        SF=1/n+SF    \n",
    "    return SF/64"
   ]
  },
  {
   "cell_type": "code",
   "execution_count": null,
   "id": "83f7ee88",
   "metadata": {},
   "outputs": [],
   "source": []
  }
 ],
 "metadata": {
  "kernelspec": {
   "display_name": "Python 3 (ipykernel)",
   "language": "python",
   "name": "python3"
  },
  "language_info": {
   "codemirror_mode": {
    "name": "ipython",
    "version": 3
   },
   "file_extension": ".py",
   "mimetype": "text/x-python",
   "name": "python",
   "nbconvert_exporter": "python",
   "pygments_lexer": "ipython3",
   "version": "3.8.11"
  }
 },
 "nbformat": 4,
 "nbformat_minor": 5
}
