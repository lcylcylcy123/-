{
 "cells": [
  {
   "cell_type": "code",
   "execution_count": 6,
   "id": "c9544b4e",
   "metadata": {},
   "outputs": [],
   "source": [
    "def hs7(dic):\n",
    "    n=0\n",
    "    dic7=dic.copy()\n",
    "    for x in range(1,65):\n",
    "        for y in range(1,65):\n",
    "            for z in range(1,65):\n",
    "                if dic7[str(x)+','+str(y)+','+str(z)]==str(2):\n",
    "                    n=n+1\n",
    "    n=n/64/64/64\n",
    "    return n\n",
    "#PZT体积分数"
   ]
  },
  {
   "cell_type": "code",
   "execution_count": 7,
   "id": "089e1850",
   "metadata": {},
   "outputs": [],
   "source": [
    "from numpy import *\n",
    "import os\n",
    "import xlrd\n",
    "path1='E:'\n",
    "path2='\\structure'\n",
    "workBook = xlrd.open_workbook(r'E:\\shuju1.xls')\n",
    "allSheetNames = workBook.sheet_names();\n",
    "sheet1Name = workBook.sheet_names()[0];\n",
    "sheet1_content1 = workBook.sheet_by_index(0);\n",
    "sheet1_content2 = workBook.sheet_by_name('Sheet1');\n",
    "d33 = sheet1_content1.col_values(2)[1:101]; # 获取第3列内容\n",
    "ls0=[]\n",
    "for i in range(len(d33)):\n",
    "    if d33[i]== 0:\n",
    "        ls0.append(i)\n",
    "ls1=[]\n",
    "for i in range(1,101):\n",
    "    path3=str(i)+'.dat'\n",
    "    path = os.path.join(path1,path2,path3)\n",
    "    f=open(path)\n",
    "    dic={}\n",
    "    for line in f:\n",
    "        s = line.strip().split('\\t')\n",
    "        s=s[0]\n",
    "        s=s.split()\n",
    "        if len(s)==4:\n",
    "            b=str(s[0]+','+s[1]+','+s[2])\n",
    "            c=str(s[3])\n",
    "            dic[b]=c\n",
    "    f.close()\n",
    "    n=hs7(dic)\n",
    "    ls1.append(n)\n",
    "j=0\n",
    "for i in range(len(ls0)):\n",
    "    a=ls0[i]\n",
    "    a=a-j\n",
    "    j=j+1\n",
    "    d33.pop(a)\n",
    "    ls1.pop(a)\n",
    "import pandas as pd\n",
    "ls=zip(d33,ls1)\n",
    "name=['d33','PZT体积分数']\n",
    "test=pd.DataFrame(columns=name,data=ls)\n",
    "test.to_csv('E:\\shuju2.csv',encoding='utf-8-sig')"
   ]
  }
 ],
 "metadata": {
  "kernelspec": {
   "display_name": "Python 3 (ipykernel)",
   "language": "python",
   "name": "python3"
  },
  "language_info": {
   "codemirror_mode": {
    "name": "ipython",
    "version": 3
   },
   "file_extension": ".py",
   "mimetype": "text/x-python",
   "name": "python",
   "nbconvert_exporter": "python",
   "pygments_lexer": "ipython3",
   "version": "3.8.11"
  }
 },
 "nbformat": 4,
 "nbformat_minor": 5
}
