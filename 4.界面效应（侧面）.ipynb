{
 "cells": [
  {
   "cell_type": "code",
   "execution_count": null,
   "id": "4acd7a47",
   "metadata": {},
   "outputs": [],
   "source": [
    "def hs4(dic):\n",
    "    n=0\n",
    "    dic4=dic.copy()\n",
    "    for i in range(1,65):\n",
    "        for j in range(1,65):\n",
    "            for k in range(1,65):\n",
    "                if dic[str(i)+','+str(j)+','+str(k)]==str(1):\n",
    "                    b=i-1\n",
    "                    c=i+1\n",
    "                    d=j-1\n",
    "                    e=j+1\n",
    "                    if 0<b<=64 and dic[str(b)+','+str(j)+','+str(k)]==str(2):\n",
    "                        n=n+1\n",
    "                    if 0<c<=64 and dic[str(c)+','+str(j)+','+str(k)]==str(2):\n",
    "                        n=n+1\n",
    "                    if 0<d<=64 and dic[str(i)+','+str(d)+','+str(k)]==str(2):\n",
    "                        n=n+1\n",
    "                    if 0<e<=64 and dic[str(i)+','+str(e)+','+str(k)]==str(2):\n",
    "                        n=n+1\n",
    "    return n\n",
    "#侧面截面面积"
   ]
  }
 ],
 "metadata": {
  "kernelspec": {
   "display_name": "Python 3 (ipykernel)",
   "language": "python",
   "name": "python3"
  },
  "language_info": {
   "codemirror_mode": {
    "name": "ipython",
    "version": 3
   },
   "file_extension": ".py",
   "mimetype": "text/x-python",
   "name": "python",
   "nbconvert_exporter": "python",
   "pygments_lexer": "ipython3",
   "version": "3.9.7"
  }
 },
 "nbformat": 4,
 "nbformat_minor": 5
}
