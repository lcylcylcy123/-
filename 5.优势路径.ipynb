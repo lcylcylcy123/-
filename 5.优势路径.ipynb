{
 "cells": [
  {
   "cell_type": "code",
   "execution_count": 1,
   "id": "68ee9d4f",
   "metadata": {},
   "outputs": [
    {
     "name": "stdout",
     "output_type": "stream",
     "text": [
      "262144\n",
      "2\n"
     ]
    }
   ],
   "source": [
    "def hs5(dic):\n",
    "    dic5=dic.copy()\n",
    "    num=0\n",
    "    for x in range(1,65):\n",
    "        for y in range(1,65):\n",
    "            for z in range(1,65):\n",
    "                if dic[str(x)+','+str(y)+','+str(z)]==str(2):\n",
    "                    num=num+1\n",
    "    p=num/len(dic)\n",
    "    n=0\n",
    "    for x in range(1,65):\n",
    "        for y in range(1,65):\n",
    "            m=0\n",
    "            for z in range(1,65):\n",
    "                if dic[str(x)+','+str(y)+','+str(z)]==str(2):\n",
    "                    m=m+1\n",
    "            if p<m/64:\n",
    "                n=n+1\n",
    "    q=n/64/64\n",
    "    return q\n",
    "#优势路径"
   ]
  },
  {
   "cell_type": "code",
   "execution_count": null,
   "id": "1b5fa620",
   "metadata": {},
   "outputs": [],
   "source": []
  }
 ],
 "metadata": {
  "kernelspec": {
   "display_name": "Python 3 (ipykernel)",
   "language": "python",
   "name": "python3"
  },
  "language_info": {
   "codemirror_mode": {
    "name": "ipython",
    "version": 3
   },
   "file_extension": ".py",
   "mimetype": "text/x-python",
   "name": "python",
   "nbconvert_exporter": "python",
   "pygments_lexer": "ipython3",
   "version": "3.8.11"
  }
 },
 "nbformat": 4,
 "nbformat_minor": 5
}
