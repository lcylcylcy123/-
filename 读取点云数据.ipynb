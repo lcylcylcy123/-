{
 "cells": [
  {
   "cell_type": "code",
   "execution_count": 14,
   "id": "97eb68a4",
   "metadata": {},
   "outputs": [
    {
     "name": "stdout",
     "output_type": "stream",
     "text": [
      "2.00000000000000\n",
      "2.00000000000000\n"
     ]
    }
   ],
   "source": [
    "f=open(r'E:\\structure.dat',encoding='utf-8')\n",
    "dic={}\n",
    "m=[]\n",
    "n=[]\n",
    "for line in f:\n",
    "    s = line.strip().split('\\t')\n",
    "    s=s[0]\n",
    "    s=s.split()\n",
    "    if len(s)==4:\n",
    "        b=str(s[0]+','+s[1]+','+s[2])\n",
    "        c=str(s[3])\n",
    "        dic[b]=c\n",
    "f.close()\n",
    "print(dic['18,16,17'])\n",
    "b=dic['18,16,17']\n",
    "print(b)"
   ]
  },
  {
   "cell_type": "code",
   "execution_count": 15,
   "id": "2e61d646",
   "metadata": {},
   "outputs": [],
   "source": [
    "def hs8(dic):\n",
    "    SF=0\n",
    "    dic8=dic.copy()\n",
    "    for x in range(1,65):\n",
    "        n=0\n",
    "        for y in range(1,65):\n",
    "            m=0\n",
    "            for z in range(1,65):\n",
    "                if dic[str(x)+','+str(y)+','+str(z)]==str(b):\n",
    "                    m=m+1\n",
    "            if m!=0:\n",
    "                n=1/m+n\n",
    "        if n!=0:\n",
    "            SF=1/n+SF    \n",
    "    return SF/64"
   ]
  },
  {
   "cell_type": "code",
   "execution_count": 16,
   "id": "976d5b8d",
   "metadata": {},
   "outputs": [
    {
     "name": "stdout",
     "output_type": "stream",
     "text": [
      "0.3517728166485836\n"
     ]
    }
   ],
   "source": [
    "from numpy import *\n",
    "h=hs8(dic)\n",
    "print(h)"
   ]
  },
  {
   "cell_type": "code",
   "execution_count": null,
   "id": "b992d9c3",
   "metadata": {},
   "outputs": [],
   "source": []
  }
 ],
 "metadata": {
  "kernelspec": {
   "display_name": "Python 3 (ipykernel)",
   "language": "python",
   "name": "python3"
  },
  "language_info": {
   "codemirror_mode": {
    "name": "ipython",
    "version": 3
   },
   "file_extension": ".py",
   "mimetype": "text/x-python",
   "name": "python",
   "nbconvert_exporter": "python",
   "pygments_lexer": "ipython3",
   "version": "3.8.11"
  }
 },
 "nbformat": 4,
 "nbformat_minor": 5
}
