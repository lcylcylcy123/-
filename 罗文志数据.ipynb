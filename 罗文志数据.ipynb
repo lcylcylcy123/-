{
 "cells": [
  {
   "cell_type": "code",
   "execution_count": 51,
   "id": "49fccf59",
   "metadata": {},
   "outputs": [
    {
     "name": "stdout",
     "output_type": "stream",
     "text": [
      "-0.02876266393121\n"
     ]
    }
   ],
   "source": [
    "with open(\"E:/fix.txt\", \"r\") as f:\n",
    "    data = f.readlines()\n",
    "x1=float(data[2][5:23])\n",
    "x2=float(data[3][27:45])\n",
    "x3=float(data[4][49:67])\n",
    "a1=float(data[8][0:18])\n",
    "a2=float(data[9][0:18])\n",
    "a3=float(data[10][0:18])\n",
    "a4=float(data[11][0:18])\n",
    "a5=float(data[12][0:18])\n",
    "b1=float(data[8][20:38])\n",
    "b2=float(data[9][20:38])\n",
    "b3=float(data[10][20:38])\n",
    "b4=float(data[11][20:38])\n",
    "b5=float(data[12][20:38])\n",
    "c1=float(data[8][40:58])\n",
    "c2=float(data[9][40:58])\n",
    "c3=float(data[10][40:58])\n",
    "c4=float(data[11][40:58])\n",
    "c5=float(data[12][40:58])\n",
    "print(c5)"
   ]
  },
  {
   "cell_type": "code",
   "execution_count": 55,
   "id": "77b81bad",
   "metadata": {
    "scrolled": true
   },
   "outputs": [
    {
     "name": "stdout",
     "output_type": "stream",
     "text": [
      "0.5\n"
     ]
    }
   ],
   "source": [
    "with open(\"E:/ferro.txt\", \"r\") as f:\n",
    "    data = f.readlines()\n",
    "a11=float(data[9][0:18])\n",
    "a22=float(data[10][0:18])\n",
    "a33=float(data[11][0:18])\n",
    "a44=float(data[12][0:18])\n",
    "a55=float(data[13][0:18])\n",
    "b11=float(data[9][20:38])\n",
    "b22=float(data[10][20:38])\n",
    "b33=float(data[11][20:38])\n",
    "b44=float(data[12][20:38])\n",
    "b55=float(data[13][20:38])\n",
    "c11=float(data[9][40:58])\n",
    "c22=float(data[10][40:58])\n",
    "c33=float(data[11][40:58])\n",
    "c44=float(data[12][40:58])\n",
    "c55=float(data[13][40:58])\n",
    "print(b11)"
   ]
  },
  {
   "cell_type": "code",
   "execution_count": 58,
   "id": "0dbe625c",
   "metadata": {},
   "outputs": [
    {
     "name": "stdout",
     "output_type": "stream",
     "text": [
      "第1列\n",
      "[-0.0, 0.0, 0.0, 0.0, -0.0]\n",
      "第2列\n",
      "[0.0, 0.0, 0.0, 0.0, 0.0]\n",
      "第3列\n",
      "[0.07724001165099958, 0.07724001165099958, 0.08370917398327056, -0.11735723996663533, -0.12083195731871824]\n"
     ]
    }
   ],
   "source": [
    "a111=(a1-a11)*x1\n",
    "a222=(a2-a22)*x1\n",
    "a333=(a3-a33)*x1\n",
    "a444=(a4-a44)*x1\n",
    "a555=(a5-a55)*x1\n",
    "b111=(b1-b11)*x2\n",
    "b222=(b2-b22)*x2\n",
    "b333=(b3-b33)*x2\n",
    "b444=(b4-b44)*x2\n",
    "b555=(b5-b55)*x2\n",
    "c111=(c1-c11)*x3\n",
    "c222=(c2-c22)*x3\n",
    "c333=(c3-c33)*x3\n",
    "c444=(c4-c44)*x3\n",
    "c555=(c5-c55)*x3\n",
    "lsa=[a111,a222,a333,a444,a555]\n",
    "lsb=[b111,b222,b333,b444,b555]\n",
    "lsc=[c111,c222,c333,c444,c555]\n",
    "print('第1列')\n",
    "print(lsa)\n",
    "print('第2列')\n",
    "print(lsb)\n",
    "print('第3列')\n",
    "print(lsc)"
   ]
  },
  {
   "cell_type": "code",
   "execution_count": 61,
   "id": "d2c11ec3",
   "metadata": {},
   "outputs": [
    {
     "name": "stdout",
     "output_type": "stream",
     "text": [
      "请输入fix名\n",
      "E:/fix\n",
      "请输入ferro名\n",
      "E:/ferro\n",
      "-0.02876266393121\n",
      "0.5\n",
      "第1列\n",
      "[-0.0, 0.0, 0.0, 0.0, -0.0]\n",
      "第2列\n",
      "[0.0, 0.0, 0.0, 0.0, 0.0]\n",
      "第3列\n",
      "[0.07724001165099958, 0.07724001165099958, 0.08370917398327056, -0.11735723996663533, -0.12083195731871824]\n"
     ]
    }
   ],
   "source": [
    "print('请输入fix名')\n",
    "name1=input()\n",
    "filename1=str(name1)+'.txt'\n",
    "print('请输入ferro名')\n",
    "name2=input()\n",
    "filename2=str(name2)+'.txt'\n",
    "with open(filename1, \"r\") as f:\n",
    "    data = f.readlines()\n",
    "x1=float(data[2][5:23])\n",
    "x2=float(data[3][27:45])\n",
    "x3=float(data[4][49:67])\n",
    "a1=float(data[8][0:18])\n",
    "a2=float(data[9][0:18])\n",
    "a3=float(data[10][0:18])\n",
    "a4=float(data[11][0:18])\n",
    "a5=float(data[12][0:18])\n",
    "b1=float(data[8][20:38])\n",
    "b2=float(data[9][20:38])\n",
    "b3=float(data[10][20:38])\n",
    "b4=float(data[11][20:38])\n",
    "b5=float(data[12][20:38])\n",
    "c1=float(data[8][40:58])\n",
    "c2=float(data[9][40:58])\n",
    "c3=float(data[10][40:58])\n",
    "c4=float(data[11][40:58])\n",
    "c5=float(data[12][40:58])\n",
    "print(c5)\n",
    "with open(filename2, \"r\") as f:\n",
    "    data = f.readlines()\n",
    "a11=float(data[9][0:18])\n",
    "a22=float(data[10][0:18])\n",
    "a33=float(data[11][0:18])\n",
    "a44=float(data[12][0:18])\n",
    "a55=float(data[13][0:18])\n",
    "b11=float(data[9][20:38])\n",
    "b22=float(data[10][20:38])\n",
    "b33=float(data[11][20:38])\n",
    "b44=float(data[12][20:38])\n",
    "b55=float(data[13][20:38])\n",
    "c11=float(data[9][40:58])\n",
    "c22=float(data[10][40:58])\n",
    "c33=float(data[11][40:58])\n",
    "c44=float(data[12][40:58])\n",
    "c55=float(data[13][40:58])\n",
    "print(b11)\n",
    "a111=(a1-a11)*x1\n",
    "a222=(a2-a22)*x1\n",
    "a333=(a3-a33)*x1\n",
    "a444=(a4-a44)*x1\n",
    "a555=(a5-a55)*x1\n",
    "b111=(b1-b11)*x2\n",
    "b222=(b2-b22)*x2\n",
    "b333=(b3-b33)*x2\n",
    "b444=(b4-b44)*x2\n",
    "b555=(b5-b55)*x2\n",
    "c111=(c1-c11)*x3\n",
    "c222=(c2-c22)*x3\n",
    "c333=(c3-c33)*x3\n",
    "c444=(c4-c44)*x3\n",
    "c555=(c5-c55)*x3\n",
    "lsa=[a111,a222,a333,a444,a555]\n",
    "lsb=[b111,b222,b333,b444,b555]\n",
    "lsc=[c111,c222,c333,c444,c555]\n",
    "print('第1列')\n",
    "print(lsa)\n",
    "print('第2列')\n",
    "print(lsb)\n",
    "print('第3列')\n",
    "print(lsc)"
   ]
  },
  {
   "cell_type": "code",
   "execution_count": null,
   "id": "127ab26d",
   "metadata": {},
   "outputs": [],
   "source": []
  }
 ],
 "metadata": {
  "kernelspec": {
   "display_name": "Python 3 (ipykernel)",
   "language": "python",
   "name": "python3"
  },
  "language_info": {
   "codemirror_mode": {
    "name": "ipython",
    "version": 3
   },
   "file_extension": ".py",
   "mimetype": "text/x-python",
   "name": "python",
   "nbconvert_exporter": "python",
   "pygments_lexer": "ipython3",
   "version": "3.8.11"
  }
 },
 "nbformat": 4,
 "nbformat_minor": 5
}
