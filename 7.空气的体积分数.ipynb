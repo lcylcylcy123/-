{
 "cells": [
  {
   "cell_type": "code",
   "execution_count": null,
   "id": "273d692a",
   "metadata": {},
   "outputs": [],
   "source": [
    "def hs7(dic):\n",
    "    n=0\n",
    "    dic7=dic.copy()\n",
    "    for x in range(1,65):\n",
    "        for y in range(1,65):\n",
    "            for z in range(1,65):\n",
    "                if dic[str(x)+','+str(y)+','+str(z)]==str(1):\n",
    "                    n=n+1\n",
    "    n=n/64/64/64\n",
    "    return n\n",
    "#空气体积分数"
   ]
  }
 ],
 "metadata": {
  "kernelspec": {
   "display_name": "Python 3 (ipykernel)",
   "language": "python",
   "name": "python3"
  },
  "language_info": {
   "codemirror_mode": {
    "name": "ipython",
    "version": 3
   },
   "file_extension": ".py",
   "mimetype": "text/x-python",
   "name": "python",
   "nbconvert_exporter": "python",
   "pygments_lexer": "ipython3",
   "version": "3.8.11"
  }
 },
 "nbformat": 4,
 "nbformat_minor": 5
}
