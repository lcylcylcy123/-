{
 "cells": [
  {
   "cell_type": "code",
   "execution_count": 6,
   "id": "16aaf114",
   "metadata": {},
   "outputs": [],
   "source": [
    "#画那篇导热的二维积分图\n",
    "f=open(r'E:/lcy2127.dat',encoding='utf-8')\n",
    "dic={}\n",
    "m=[]\n",
    "n=[]\n",
    "for line in f:\n",
    "    s = line.strip().split('\\t')\n",
    "    s=s[0]\n",
    "    s=s.split()\n",
    "    if len(s)==4:\n",
    "        b=str(s[0]+','+s[1]+','+s[2])\n",
    "        c=str(s[3])\n",
    "        dic[b]=c\n",
    "f.close()\n",
    "dic1=dic.copy()\n",
    "f = open(\"E:/file21271.txt\", 'w+')\n",
    "for z in range(1,604):\n",
    "    i=0\n",
    "    j=604\n",
    "    for x in range(1,604):\n",
    "        for y in range(1,2):\n",
    "            if dic[str(x)+','+str(y)+','+str(z)]==str(2):\n",
    "                i=i+1\n",
    "                d=str(i)+','+str(y)+','+str(z)\n",
    "                dic1[d]=str(2)\n",
    "            else:\n",
    "                j=j-1\n",
    "                e=str(j)+','+str(y)+','+str(z)\n",
    "                dic1[e]=str(1)\n",
    "for k in dic1:\n",
    "    v=dic1[k]\n",
    "    q=k.split(',')\n",
    "    k=str(k)+','+str(v)\n",
    "    f.write(k)\n",
    "    f.write('\\n')\n",
    "f.close()"
   ]
  },
  {
   "cell_type": "code",
   "execution_count": null,
   "id": "08a391c1",
   "metadata": {},
   "outputs": [],
   "source": []
  }
 ],
 "metadata": {
  "kernelspec": {
   "display_name": "Python 3 (ipykernel)",
   "language": "python",
   "name": "python3"
  },
  "language_info": {
   "codemirror_mode": {
    "name": "ipython",
    "version": 3
   },
   "file_extension": ".py",
   "mimetype": "text/x-python",
   "name": "python",
   "nbconvert_exporter": "python",
   "pygments_lexer": "ipython3",
   "version": "3.8.11"
  }
 },
 "nbformat": 4,
 "nbformat_minor": 5
}
