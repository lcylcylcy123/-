{
 "cells": [
  {
   "cell_type": "code",
   "execution_count": 1,
   "id": "387c9c31",
   "metadata": {},
   "outputs": [
    {
     "name": "stdout",
     "output_type": "stream",
     "text": [
      "1\n"
     ]
    }
   ],
   "source": [
    "f=open(r'E:/6.dat',encoding='utf-8')\n",
    "dic={}\n",
    "m=[]\n",
    "n=[]\n",
    "for line in f:\n",
    "    s = line.strip().split('\\t')\n",
    "    s=s[0]\n",
    "    s=s.split()\n",
    "    if len(s)==4:\n",
    "        b=str(s[0]+','+s[1]+','+s[2])\n",
    "        c=str(s[3])\n",
    "        dic[b]=c\n",
    "f.close()\n",
    "print(dic['18,16,17'])"
   ]
  },
  {
   "cell_type": "code",
   "execution_count": 2,
   "id": "fc8de71a",
   "metadata": {},
   "outputs": [],
   "source": [
    "z=64\n",
    "for x in range(1,65):\n",
    "    for y in range(1,65):\n",
    "        dic[str(x)+','+str(y)+','+str(z)]=str(1)"
   ]
  },
  {
   "cell_type": "code",
   "execution_count": 3,
   "id": "bdb7b46c",
   "metadata": {},
   "outputs": [],
   "source": [
    "f = open('E:/xx1.dat','w')\n",
    "for i in dic:\n",
    "    b=dic[i]\n",
    "    b='           '+b\n",
    "    a=i.split(',')\n",
    "    x=a[0]\n",
    "    if len(x)==1:\n",
    "        x='           '+x\n",
    "    elif len(x)==2:\n",
    "        x='          '+x\n",
    "    y=a[1]\n",
    "    if len(y)==1:\n",
    "        y='           '+y\n",
    "    elif len(y)==2:\n",
    "        y='          '+y\n",
    "    z=a[2]\n",
    "    if len(z)==1:\n",
    "        z='           '+z\n",
    "    elif len(z)==2:\n",
    "        z='          '+z\n",
    "    h=x+y+z+b\n",
    "    f.write(h)\n",
    "    f.write('\\n')\n",
    "f.close() "
   ]
  },
  {
   "cell_type": "code",
   "execution_count": null,
   "id": "e848e58c",
   "metadata": {},
   "outputs": [],
   "source": []
  }
 ],
 "metadata": {
  "kernelspec": {
   "display_name": "Python 3 (ipykernel)",
   "language": "python",
   "name": "python3"
  },
  "language_info": {
   "codemirror_mode": {
    "name": "ipython",
    "version": 3
   },
   "file_extension": ".py",
   "mimetype": "text/x-python",
   "name": "python",
   "nbconvert_exporter": "python",
   "pygments_lexer": "ipython3",
   "version": "3.8.11"
  }
 },
 "nbformat": 4,
 "nbformat_minor": 5
}
