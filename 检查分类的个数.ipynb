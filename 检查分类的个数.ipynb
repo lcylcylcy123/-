{
 "cells": [
  {
   "cell_type": "code",
   "execution_count": 16,
   "id": "2cf3a2c4",
   "metadata": {},
   "outputs": [
    {
     "name": "stdout",
     "output_type": "stream",
     "text": [
      "73\n",
      "264\n",
      "162\n"
     ]
    }
   ],
   "source": [
    "from numpy import *\n",
    "import os\n",
    "import xlrd\n",
    "import pandas as pd\n",
    "path1='E:'\n",
    "path2='\\shuju'\n",
    "workBook = xlrd.open_workbook(r'E:\\shuju.xls')\n",
    "allSheetNames = workBook.sheet_names();\n",
    "sheet1Name = workBook.sheet_names()[0];\n",
    "sheet1_content1 = workBook.sheet_by_index(0);\n",
    "sheet1_content2 = workBook.sheet_by_name('Sheet1');\n",
    "d33 = sheet1_content1.col_values(1)[1:500]; # 获取第1列内容\n",
    "F = sheet1_content1.col_values(0)[1:500]; # 获取第45列内容  类别\n",
    "V = sheet1_content1.col_values(20)[1:500]; # 获取第20列内容  类别\n",
    "lsx1=[]\n",
    "lsx2=[]\n",
    "lsx3=[]\n",
    "ls=[]\n",
    "for i in range(499):\n",
    "    if F[i]==0:\n",
    "        lsx1.append(i)\n",
    "    if F[i]==1:\n",
    "        lsx2.append(i)\n",
    "    if F[i]==2:\n",
    "        lsx3.append(i)\n",
    "print(len(lsx1))\n",
    "print(len(lsx2))\n",
    "print(len(lsx3))"
   ]
  },
  {
   "cell_type": "code",
   "execution_count": 17,
   "id": "f15dd580",
   "metadata": {},
   "outputs": [],
   "source": [
    "V1=[]\n",
    "V2=[]\n",
    "V3=[]\n",
    "d1=[]\n",
    "d2=[]\n",
    "d3=[]\n",
    "for i in lsx1:\n",
    "    V1.append(V[i])\n",
    "    d1.append(d33[i])\n",
    "for i in lsx2:\n",
    "    V2.append(V[i])\n",
    "    d2.append(d33[i])\n",
    "for i in lsx3:\n",
    "    V3.append(V[i])\n",
    "    d3.append(d33[i])\n",
    "ls1=zip(d1,V1)\n",
    "ls2=zip(d2,V2)\n",
    "ls3=zip(d3,V3)\n",
    "name1=['d33','V1']\n",
    "name2=['d33','V2']\n",
    "name3=['d33','V3']\n",
    "test1=pd.DataFrame(columns=name1,data=ls1)\n",
    "test2=pd.DataFrame(columns=name2,data=ls2)\n",
    "test3=pd.DataFrame(columns=name3,data=ls3)\n",
    "test1.to_csv('E:\\side.csv',encoding='utf-8-sig')\n",
    "test2.to_csv('E:\\srandom.csv',encoding='utf-8-sig')\n",
    "test3.to_csv('E:\\straightup.csv',encoding='utf-8-sig')"
   ]
  }
 ],
 "metadata": {
  "kernelspec": {
   "display_name": "Python 3 (ipykernel)",
   "language": "python",
   "name": "python3"
  },
  "language_info": {
   "codemirror_mode": {
    "name": "ipython",
    "version": 3
   },
   "file_extension": ".py",
   "mimetype": "text/x-python",
   "name": "python",
   "nbconvert_exporter": "python",
   "pygments_lexer": "ipython3",
   "version": "3.8.11"
  }
 },
 "nbformat": 4,
 "nbformat_minor": 5
}
