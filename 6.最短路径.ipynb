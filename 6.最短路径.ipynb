{
 "cells": [
  {
   "cell_type": "code",
   "execution_count": 1,
   "id": "488a7e00",
   "metadata": {},
   "outputs": [],
   "source": [
    "def hs6(dic):\n",
    "    num=0\n",
    "    dic6=dic.copy()\n",
    "    for x in range(1,65):\n",
    "        for y in range(1,65):\n",
    "            for z in range(1,65):\n",
    "                if dic[str(x)+','+str(y)+','+str(z)]==str(2):\n",
    "                    num=num+1\n",
    "    p=num/len(dic)\n",
    "    n=0\n",
    "    for x in range(1,65):\n",
    "        for y in range(1,65):\n",
    "            m=0\n",
    "            for z in range(1,65):\n",
    "                if dic[str(x)+','+str(y)+','+str(z)]==str(2):\n",
    "                    m=m+1\n",
    "            if m/64<p*0.5:\n",
    "                n=n+1\n",
    "    q=n/64/64\n",
    "    return q\n",
    "#最短路径"
   ]
  },
  {
   "cell_type": "code",
   "execution_count": null,
   "id": "b9d06e22",
   "metadata": {},
   "outputs": [],
   "source": []
  }
 ],
 "metadata": {
  "kernelspec": {
   "display_name": "Python 3 (ipykernel)",
   "language": "python",
   "name": "python3"
  },
  "language_info": {
   "codemirror_mode": {
    "name": "ipython",
    "version": 3
   },
   "file_extension": ".py",
   "mimetype": "text/x-python",
   "name": "python",
   "nbconvert_exporter": "python",
   "pygments_lexer": "ipython3",
   "version": "3.8.11"
  }
 },
 "nbformat": 4,
 "nbformat_minor": 5
}
