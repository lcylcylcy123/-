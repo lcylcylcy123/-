{
 "cells": [
  {
   "cell_type": "code",
   "execution_count": 6,
   "id": "3eb335bf",
   "metadata": {
    "scrolled": true
   },
   "outputs": [],
   "source": [
    "f=open(r'E:/ABS-BNNs.dat',encoding='utf-8')\n",
    "dic={}\n",
    "dic1={}\n",
    "for line in f:\n",
    "    s = line.strip().split('\\t')\n",
    "    s=s[0]\n",
    "    s=s.split()\n",
    "    if len(s)==4:\n",
    "        b=str(str(int(float(s[0])*10-9))+','+str(int(float(s[1])*10-9))+','+str(int(float(s[2])*10-9)))\n",
    "        c=str(int(float(s[3]))-1)\n",
    "        dic[b]=c\n",
    "f.close()\n",
    "for x in range(1,122):\n",
    "    for y in range(1,122):\n",
    "        for z in range(1,122):\n",
    "            l=str(x)+','+str(y)+','+str(z)\n",
    "            dic1[l]=dic[l]\n",
    "f = open(r'E:/ABS-BNNsxxxxx.dat','w')\n",
    "for i in dic1:\n",
    "    b=dic1[i]\n",
    "    b='           '+b\n",
    "    a=i.split(',')\n",
    "    x=a[0]\n",
    "    if len(x)==1:\n",
    "        x='           '+x\n",
    "    elif len(x)==2:\n",
    "        x='          '+x\n",
    "    elif len(x)==3:\n",
    "        x='         '+x\n",
    "    y=a[1]\n",
    "    if len(y)==1:\n",
    "        y='           '+y\n",
    "    elif len(y)==2:\n",
    "        y='          '+y\n",
    "    elif len(y)==3:\n",
    "        y='         '+y\n",
    "    z=a[2]\n",
    "    if len(z)==1:\n",
    "        z='           '+z\n",
    "    elif len(z)==2:\n",
    "        z='          '+z\n",
    "    elif len(z)==3:\n",
    "        z='         '+z\n",
    "    h=x+y+z+b\n",
    "    f.write(h)\n",
    "    f.write('\\n')\n",
    "f.close()"
   ]
  },
  {
   "cell_type": "code",
   "execution_count": null,
   "id": "65a7c500",
   "metadata": {},
   "outputs": [],
   "source": []
  }
 ],
 "metadata": {
  "kernelspec": {
   "display_name": "Python 3 (ipykernel)",
   "language": "python",
   "name": "python3"
  },
  "language_info": {
   "codemirror_mode": {
    "name": "ipython",
    "version": 3
   },
   "file_extension": ".py",
   "mimetype": "text/x-python",
   "name": "python",
   "nbconvert_exporter": "python",
   "pygments_lexer": "ipython3",
   "version": "3.8.11"
  }
 },
 "nbformat": 4,
 "nbformat_minor": 5
}
