{
 "cells": [
  {
   "cell_type": "code",
   "execution_count": 3,
   "id": "7cd5b850",
   "metadata": {},
   "outputs": [],
   "source": [
    "f=open(r'E:/lcy3.dat',encoding='utf-8')\n",
    "dic={}\n",
    "dic1={}\n",
    "for line in f:\n",
    "    s = line.strip().split('\\t')\n",
    "    s=s[0]\n",
    "    s=s.split()\n",
    "    if len(s)==4:\n",
    "        b=str(str(int(float(s[0])))+','+str(int(float(s[1])))+','+str(int(float(s[2]))))\n",
    "        c=str(int(float(s[3])))\n",
    "        dic[b]=c\n",
    "f.close()\n",
    "for x in range(1,101):\n",
    "    for y in range(1,101):\n",
    "        for z in range(1,101):\n",
    "            l=str(x)+','+str(y)+','+str(z)\n",
    "            dic1[l]=dic[l]\n",
    "f = open(r'E:/lcy30.dat','w')\n",
    "for i in dic1:\n",
    "    b=dic1[i]\n",
    "    b='           '+b\n",
    "    a=i.split(',')\n",
    "    x=a[0]\n",
    "    if len(x)==1:\n",
    "        x='           '+x\n",
    "    elif len(x)==2:\n",
    "        x='          '+x\n",
    "    elif len(x)==3:\n",
    "        x='         '+x\n",
    "    y=a[1]\n",
    "    if len(y)==1:\n",
    "        y='           '+y\n",
    "    elif len(y)==2:\n",
    "        y='          '+y\n",
    "    elif len(y)==3:\n",
    "        y='         '+y\n",
    "    z=a[2]\n",
    "    if len(z)==1:\n",
    "        z='           '+z\n",
    "    elif len(z)==2:\n",
    "        z='          '+z\n",
    "    elif len(z)==3:\n",
    "        z='         '+z\n",
    "    h=x+y+z+b\n",
    "    f.write(h)\n",
    "    f.write('\\n')\n",
    "f.close()"
   ]
  },
  {
   "cell_type": "code",
   "execution_count": null,
   "id": "2387e415",
   "metadata": {},
   "outputs": [],
   "source": []
  }
 ],
 "metadata": {
  "kernelspec": {
   "display_name": "Python 3 (ipykernel)",
   "language": "python",
   "name": "python3"
  },
  "language_info": {
   "codemirror_mode": {
    "name": "ipython",
    "version": 3
   },
   "file_extension": ".py",
   "mimetype": "text/x-python",
   "name": "python",
   "nbconvert_exporter": "python",
   "pygments_lexer": "ipython3",
   "version": "3.8.11"
  }
 },
 "nbformat": 4,
 "nbformat_minor": 5
}
