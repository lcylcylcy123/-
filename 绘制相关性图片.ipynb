{
 "cells": [
  {
   "cell_type": "code",
   "execution_count": null,
   "id": "8c88513e",
   "metadata": {},
   "outputs": [],
   "source": [
    "import matplotlib.pyplot as plt\n",
    "plt.figure(dpi=1000)\n",
    "plt.title('描述符：yz截面孔隙平均个数，spearman = 0.724039 ',color='black',fontsize='large',fontproperties='SimHei')\n",
    "plt.scatter(lsnu1, cols,c='r')\n",
    "plt.xlabel('yz截面孔隙平均个数', fontproperties='SimHei')\n",
    "plt.ylabel('压电系数', fontproperties='SimHei')\n",
    "plt.show()"
   ]
  }
 ],
 "metadata": {
  "kernelspec": {
   "display_name": "Python 3 (ipykernel)",
   "language": "python",
   "name": "python3"
  },
  "language_info": {
   "codemirror_mode": {
    "name": "ipython",
    "version": 3
   },
   "file_extension": ".py",
   "mimetype": "text/x-python",
   "name": "python",
   "nbconvert_exporter": "python",
   "pygments_lexer": "ipython3",
   "version": "3.8.11"
  }
 },
 "nbformat": 4,
 "nbformat_minor": 5
}
