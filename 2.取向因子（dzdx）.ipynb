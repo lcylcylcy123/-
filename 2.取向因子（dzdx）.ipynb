{
 "cells": [
  {
   "cell_type": "code",
   "execution_count": 3,
   "id": "0ac6899f",
   "metadata": {},
   "outputs": [
    {
     "name": "stdout",
     "output_type": "stream",
     "text": [
      "262144\n",
      "2\n"
     ]
    }
   ],
   "source": [
    "def hs2(dic):\n",
    "    num=[]\n",
    "    k=[]\n",
    "    dic2=dic.copy()\n",
    "    for x in range(1,65):\n",
    "        for y in range(1,65):\n",
    "            for z in range(1,65):\n",
    "                if dic2[str(x)+','+str(y)+','+str(z)]==str(1):\n",
    "                    lsz=[z]\n",
    "                    lsy=[x]\n",
    "                    m=0\n",
    "                    lsx=[str(x)+','+str(y)+','+str(z)]\n",
    "                    dic2[lsx[m]]=str(3)\n",
    "                    while dic2[lsx[m]]==str(3):\n",
    "                        q=lsx[m].split(',')\n",
    "                        x=int(q[0])\n",
    "                        y=int(q[1])\n",
    "                        z=int(q[2])\n",
    "                        if 0<x+1<=64:\n",
    "                            a=x+1\n",
    "                            b=y\n",
    "                            c=z\n",
    "                            if dic2[str(a)+','+str(b)+','+str(c)]==str(1):\n",
    "                                dic2[str(a)+','+str(b)+','+str(c)]=str(3)\n",
    "                                lsx.append(str(a)+','+str(b)+','+str(c))\n",
    "                                lsz.append(c)\n",
    "                                lsy.append(a)\n",
    "                        if 0<x-1<=64:\n",
    "                            a=x-1\n",
    "                            b=y\n",
    "                            c=z\n",
    "                            if dic2[str(a)+','+str(b)+','+str(c)]==str(1):\n",
    "                                dic2[str(a)+','+str(b)+','+str(c)]=str(3)\n",
    "                                lsx.append(str(a)+','+str(b)+','+str(c))\n",
    "                                lsz.append(c)\n",
    "                                lsy.append(a)\n",
    "                        if 0<z+1<=64:\n",
    "                            a=x\n",
    "                            b=y\n",
    "                            c=z+1\n",
    "                            if dic2[str(a)+','+str(b)+','+str(c)]==str(1):\n",
    "                                dic2[str(a)+','+str(b)+','+str(c)]=str(3)\n",
    "                                lsx.append(str(a)+','+str(b)+','+str(c))\n",
    "                                lsz.append(c)\n",
    "                                lsy.append(a)\n",
    "                        if 0<z-1<=64:\n",
    "                            a=x\n",
    "                            b=y\n",
    "                            c=z-1\n",
    "                            if dic2[str(a)+','+str(b)+','+str(c)]==str(1):\n",
    "                                dic2[str(a)+','+str(b)+','+str(c)]=str(3)\n",
    "                                lsx.append(str(a)+','+str(b)+','+str(c))\n",
    "                                lsz.append(c)\n",
    "                                lsy.append(a)\n",
    "                        m=m+1\n",
    "                        if len(lsx)<m+1:\n",
    "                            if len(lsx)>4:\n",
    "                                d1=max(lsz)-min(lsz)+1\n",
    "                                d2=max(lsy)-min(lsy)+1\n",
    "                                p=d1/d2\n",
    "                                k.append(p)\n",
    "                                num.append(len(lsx))\n",
    "                            break\n",
    "    return k,num\n",
    "#xz平面 dz/dx"
   ]
  },
  {
   "cell_type": "markdown",
   "id": "f94086be",
   "metadata": {},
   "source": [
    "dz/dx"
   ]
  },
  {
   "cell_type": "code",
   "execution_count": null,
   "id": "26e444ef",
   "metadata": {},
   "outputs": [],
   "source": []
  }
 ],
 "metadata": {
  "kernelspec": {
   "display_name": "Python 3 (ipykernel)",
   "language": "python",
   "name": "python3"
  },
  "language_info": {
   "codemirror_mode": {
    "name": "ipython",
    "version": 3
   },
   "file_extension": ".py",
   "mimetype": "text/x-python",
   "name": "python",
   "nbconvert_exporter": "python",
   "pygments_lexer": "ipython3",
   "version": "3.8.11"
  }
 },
 "nbformat": 4,
 "nbformat_minor": 5
}
